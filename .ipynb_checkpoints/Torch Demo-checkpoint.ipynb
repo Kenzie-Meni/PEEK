{
 "cells": [
  {
   "cell_type": "markdown",
   "metadata": {},
   "source": [
    "# PEEK in PyTorch"
   ]
  },
  {
   "cell_type": "markdown",
   "metadata": {},
   "source": [
    "## Pretrained VGG Image Classifier Demo"
   ]
  },
  {
   "cell_type": "markdown",
   "metadata": {},
   "source": [
    "### Run Inference and Save Feature Maps"
   ]
  },
  {
   "cell_type": "code",
   "execution_count": null,
   "metadata": {},
   "outputs": [],
   "source": [
    "import torch\n",
    "import torchvision.models as models\n",
    "\n",
    "# Load the pretrained VGG-16 model\n",
    "vgg16 = models.vgg16(pretrained=True)\n",
    "\n",
    "# If you want to use the model for inference, set it to evaluation mode\n",
    "vgg16.eval()\n",
    "\n",
    "# Print the model structure\n",
    "print(vgg16)"
   ]
  },
  {
   "cell_type": "code",
   "execution_count": 28,
   "metadata": {},
   "outputs": [
    {
     "data": {
      "text/plain": [
       "['images/imagenet_valset_images\\\\ILSVRC2012_val_00000193.JPEG',\n",
       " 'images/imagenet_valset_images\\\\ILSVRC2012_val_00000195.JPEG',\n",
       " 'images/imagenet_valset_images\\\\ILSVRC2012_val_00000205.JPEG',\n",
       " 'images/imagenet_valset_images\\\\ILSVRC2012_val_00000206.JPEG',\n",
       " 'images/imagenet_valset_images\\\\ILSVRC2012_val_00000207.JPEG',\n",
       " 'images/imagenet_valset_images\\\\ILSVRC2012_val_00000208.JPEG',\n",
       " 'images/imagenet_valset_images\\\\ILSVRC2012_val_00000209.JPEG',\n",
       " 'images/imagenet_valset_images\\\\ILSVRC2012_val_00000210.JPEG',\n",
       " 'images/imagenet_valset_images\\\\ILSVRC2012_val_00000211.JPEG',\n",
       " 'images/imagenet_valset_images\\\\ILSVRC2012_val_00000212.JPEG']"
      ]
     },
     "execution_count": 28,
     "metadata": {},
     "output_type": "execute_result"
    }
   ],
   "source": [
    "\n"
   ]
  },
  {
   "cell_type": "code",
   "execution_count": 36,
   "metadata": {},
   "outputs": [],
   "source": [
    "import torch\n",
    "import torchvision.models as models\n",
    "import torchvision.transforms as transforms\n",
    "from PIL import Image\n",
    "import pickle\n",
    "import os\n",
    "\n",
    "class VGG16FeatureExtractor(torch.nn.Module):\n",
    "    def __init__(self, pretrained=True):\n",
    "        super(VGG16FeatureExtractor, self).__init__()\n",
    "        self.vgg16 = models.vgg16(pretrained=pretrained).features\n",
    "        # Automatically collect indices of all convolutional layers\n",
    "        self.conv_layers = [i for i, layer in enumerate(self.vgg16) if isinstance(layer, torch.nn.Conv2d)]\n",
    "\n",
    "    def forward(self, x):\n",
    "        features = []\n",
    "        for layer_index, layer in enumerate(self.vgg16):\n",
    "            x = layer(x)\n",
    "            if layer_index in self.conv_layers:\n",
    "                features.append(x)\n",
    "        return features\n",
    "\n",
    "    def load_image(self, image_path):\n",
    "        # Load an image and transform it to the format required by VGG16\n",
    "        transform = transforms.Compose([\n",
    "            transforms.Resize(256),\n",
    "            transforms.CenterCrop(224),\n",
    "            transforms.ToTensor(),\n",
    "            transforms.Normalize(mean=[0.485, 0.456, 0.406], std=[0.229, 0.224, 0.225])\n",
    "        ])\n",
    "        image = Image.open(image_path)\n",
    "        image = transform(image).unsqueeze(0)  # Add batch dimension\n",
    "        return image\n",
    "\n",
    "    def save_features(self, features, save_folder, base_filename):\n",
    "        # Save features to a single pickle file\n",
    "        filename = f'feature_maps/{save_folder}/{base_filename}.pkl'\n",
    "        with open(filename, \"wb\") as f:\n",
    "            pickle.dump([feature.cpu().numpy() for feature in features], f)\n",
    "        print(f\"Saved all features to {filename}\")\n"
   ]
  },
  {
   "cell_type": "code",
   "execution_count": 38,
   "metadata": {},
   "outputs": [
    {
     "name": "stdout",
     "output_type": "stream",
     "text": [
      "Saved all features to feature_maps/imagenet_valset_images/ILSVRC2012_val_00000193.pkl\n",
      "Saved all features to feature_maps/imagenet_valset_images/ILSVRC2012_val_00000195.pkl\n",
      "Saved all features to feature_maps/imagenet_valset_images/ILSVRC2012_val_00000205.pkl\n",
      "Saved all features to feature_maps/imagenet_valset_images/ILSVRC2012_val_00000206.pkl\n",
      "Saved all features to feature_maps/imagenet_valset_images/ILSVRC2012_val_00000207.pkl\n",
      "Saved all features to feature_maps/imagenet_valset_images/ILSVRC2012_val_00000208.pkl\n",
      "Saved all features to feature_maps/imagenet_valset_images/ILSVRC2012_val_00000209.pkl\n",
      "Saved all features to feature_maps/imagenet_valset_images/ILSVRC2012_val_00000210.pkl\n",
      "Saved all features to feature_maps/imagenet_valset_images/ILSVRC2012_val_00000211.pkl\n",
      "Saved all features to feature_maps/imagenet_valset_images/ILSVRC2012_val_00000212.pkl\n"
     ]
    }
   ],
   "source": [
    "import glob\n",
    "\n",
    "image_folder = 'images/imagenet_valset_images'\n",
    "\n",
    "image_filepaths = glob.glob(f'{image_folder}/*')\n",
    "\n",
    "feature_extractor = VGG16FeatureExtractor()\n",
    "feature_extractor.eval()  # Set to evaluation mode\n",
    "\n",
    "# List of image paths\n",
    "_, save_folder = image_folder.split('/')\n",
    "\n",
    "for image_path in image_filepaths:\n",
    "    input_tensor = feature_extractor.load_image(image_path)\n",
    "    with torch.no_grad():\n",
    "        features = feature_extractor(input_tensor)\n",
    "\n",
    "    # Create a base filename for saving features without the original extension\n",
    "    base_image_filename = os.path.split(image_path)[-1].split('.')[0]\n",
    "    feature_extractor.save_features(features, save_folder, base_image_filename)\n"
   ]
  },
  {
   "cell_type": "code",
   "execution_count": null,
   "metadata": {},
   "outputs": [],
   "source": []
  }
 ],
 "metadata": {
  "kernelspec": {
   "display_name": "Python [conda env:root]",
   "language": "python",
   "name": "conda-root-py"
  },
  "language_info": {
   "codemirror_mode": {
    "name": "ipython",
    "version": 3
   },
   "file_extension": ".py",
   "mimetype": "text/x-python",
   "name": "python",
   "nbconvert_exporter": "python",
   "pygments_lexer": "ipython3",
   "version": "3.9.16"
  }
 },
 "nbformat": 4,
 "nbformat_minor": 2
}
