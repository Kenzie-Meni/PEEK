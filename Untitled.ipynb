{
 "cells": [
  {
   "cell_type": "markdown",
   "id": "5db5bfbd-cfb1-412a-86b6-10b30f70c428",
   "metadata": {},
   "source": [
    "# PEEK Box Extraction"
   ]
  },
  {
   "cell_type": "markdown",
   "id": "5e9240d2-de74-4b50-b4fe-81db0cf0b6ff",
   "metadata": {},
   "source": [
    "## Run Inference and Save Feature Maps\n",
    "\n",
    "(Note: for large datasets, this will create tens of GB of data. Please ensure you have sufficient hard drive space.)"
   ]
  },
  {
   "cell_type": "code",
   "execution_count": 4,
   "id": "60dcf81d-6fa9-4c6e-bff1-ae142bb5b89b",
   "metadata": {
    "tags": []
   },
   "outputs": [
    {
     "name": "stdout",
     "output_type": "stream",
     "text": [
      "\u001b[34m\u001b[1mdetect: \u001b[0mweights=['satellite_detection_weights.pt'], source=/Users/mackenziemeni/Conda/PEEK/TestData, data=yolov5/data/coco128.yaml, imgsz=[640, 640], conf_thres=0.25, iou_thres=0.45, max_det=1000, device=, view_img=False, save_txt=False, save_csv=False, save_conf=False, save_crop=False, nosave=False, classes=None, agnostic_nms=False, augment=False, visualize=False, update=False, project=yolov5/runs/detect, name=exp, exist_ok=False, line_thickness=3, hide_labels=False, hide_conf=False, half=False, dnn=False, vid_stride=1, save_feature_maps=feature_maps/GSFC\n",
      "YOLOv5 🚀 2024-3-7 Python-3.12.5 torch-2.4.0 CPU\n",
      "\n",
      "Fusing layers... \n",
      "Model summary: 157 layers, 7020913 parameters, 0 gradients\n",
      "image 1/8 /Users/mackenziemeni/Conda/PEEK/TestData/frame00000.png: 384x640 2 antennas, 3 bodys, 2 solars, 70.9ms\n",
      "image 2/8 /Users/mackenziemeni/Conda/PEEK/TestData/frame00062.png: 384x640 1 antenna, 2 bodys, 2 solars, 2 thrusters, 63.3ms\n",
      "image 3/8 /Users/mackenziemeni/Conda/PEEK/TestData/frame00099.png: 384x640 3 antennas, 1 body, 3 solars, 2 thrusters, 58.8ms\n",
      "image 4/8 /Users/mackenziemeni/Conda/PEEK/TestData/frame00177.png: 384x640 1 antenna, 3 bodys, 2 solars, 5 thrusters, 64.4ms\n",
      "image 5/8 /Users/mackenziemeni/Conda/PEEK/TestData/frame00286.png: 384x640 1 body, 4 solars, 62.3ms\n",
      "image 6/8 /Users/mackenziemeni/Conda/PEEK/TestData/frame00327.png: 384x640 3 antennas, 1 body, 1 solar, 1 thruster, 62.6ms\n",
      "image 7/8 /Users/mackenziemeni/Conda/PEEK/TestData/frame01421.png: 384x640 3 antennas, 1 body, 2 solars, 58.6ms\n",
      "image 8/8 /Users/mackenziemeni/Conda/PEEK/TestData/frame01424.png: 384x640 2 antennas, 1 body, 2 solars, 53.3ms\n",
      "Speed: 0.3ms pre-process, 61.8ms inference, 0.9ms NMS per image at shape (1, 3, 640, 640)\n",
      "Results saved to \u001b[1myolov5/runs/detect/exp7\u001b[0m\n"
     ]
    }
   ],
   "source": [
    "!python yolov5/detect.py --weights satellite_detection_weights.pt --source TestData --save-feature-maps feature_maps/GSFC\n",
    "#!python yolov5/detect.py --weights satellite_detection_weights.pt --source ../datasets/GSFC"
   ]
  },
  {
   "cell_type": "code",
   "execution_count": null,
   "id": "2ab71e1f-16e1-4eca-8bed-ff8b4f34c05b",
   "metadata": {},
   "outputs": [],
   "source": []
  },
  {
   "cell_type": "code",
   "execution_count": null,
   "id": "06f96ce2-84d3-4ffa-ac8b-c33e18ec225d",
   "metadata": {},
   "outputs": [],
   "source": []
  },
  {
   "cell_type": "code",
   "execution_count": null,
   "id": "b79fffba-da1b-4e72-9c56-e1e92480de6c",
   "metadata": {},
   "outputs": [],
   "source": []
  }
 ],
 "metadata": {
  "kernelspec": {
   "display_name": "Python 3 (ipykernel)",
   "language": "python",
   "name": "python3"
  },
  "language_info": {
   "codemirror_mode": {
    "name": "ipython",
    "version": 3
   },
   "file_extension": ".py",
   "mimetype": "text/x-python",
   "name": "python",
   "nbconvert_exporter": "python",
   "pygments_lexer": "ipython3",
   "version": "3.9.16"
  }
 },
 "nbformat": 4,
 "nbformat_minor": 5
}
