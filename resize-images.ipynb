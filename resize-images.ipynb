{
 "cells": [
  {
   "cell_type": "code",
   "execution_count": 1,
   "metadata": {},
   "outputs": [
    {
     "name": "stdout",
     "output_type": "stream",
     "text": [
      "Copied SatelliteData\\.DS_Store to SatelliteData_resized\\.\\.DS_Store\n",
      "Copied SatelliteData\\data.yaml to SatelliteData_resized\\.\\data.yaml\n",
      "Copied SatelliteData\\labels.cache to SatelliteData_resized\\.\\labels.cache\n",
      "Copied SatelliteData\\images\\ceil_light_1_Color_1669859309483-99804687500000_png.rf.c21b7084adfbf4d9b9ec7b38889fe910.jpg to SatelliteData_resized\\images\\ceil_light_1_Color_1669859309483-99804687500000_png.rf.c21b7084adfbf4d9b9ec7b38889fe910.jpg\n",
      "Copied SatelliteData\\images\\ceil_light_1_Color_1669859309884-16723632812500_png.rf.22aa484ca2938a3885eb871cb62235c6.jpg to SatelliteData_resized\\images\\ceil_light_1_Color_1669859309884-16723632812500_png.rf.22aa484ca2938a3885eb871cb62235c6.jpg\n",
      "Copied SatelliteData\\images\\ceil_light_1_Color_1669859313285-87036132812500_png.rf.a03aebb027779bc547dd96c16571975c.jpg to SatelliteData_resized\\images\\ceil_light_1_Color_1669859313285-87036132812500_png.rf.a03aebb027779bc547dd96c16571975c.jpg\n",
      "Copied SatelliteData\\images\\ceil_light_1_Color_1669859314787-45556640625000_png.rf.925e8683f4ed400eadac1249847c8db0.jpg to SatelliteData_resized\\images\\ceil_light_1_Color_1669859314787-45556640625000_png.rf.925e8683f4ed400eadac1249847c8db0.jpg\n",
      "Copied SatelliteData\\images\\ceil_light_1_Color_1669859316288-86254882812500_png.rf.be4c5e30ebfcc0435b00d3627a1659da.jpg to SatelliteData_resized\\images\\ceil_light_1_Color_1669859316288-86254882812500_png.rf.be4c5e30ebfcc0435b00d3627a1659da.jpg\n",
      "Resized and saved SatelliteData_resized\\images\\low_light_2_Color_1669859038387-69384765625000_png.rf.5ba2dbb5d3a0b09e0fda3e5d619e3fa5.jpg\n",
      "Resized and saved SatelliteData_resized\\images\\low_light_2_Color_1669859041323-28833007812500_png.rf.8ac8e6d12058b78faaac18eb8a39666b.jpg\n",
      "Resized and saved SatelliteData_resized\\images\\low_light_2_Color_1669859043557-98217773437500_png.rf.55cb90e856924b6e39f11f75ccc0be02.jpg\n",
      "Resized and saved SatelliteData_resized\\images\\low_light_2_Color_1669859044791-95971679687500_png.rf.57442541dd808e3db1e2f2540b598e65.jpg\n",
      "Resized and saved SatelliteData_resized\\images\\low_light_2_Color_1669859045792-41381835937500_png.rf.561a632778cfa901b9058d8682f5050b.jpg\n",
      "Copied SatelliteData\\labels\\ceil_light_1_Color_1669859309517-34350585937500_png.rf.5df5a98f65a1cce87e96c35c229a325a.txt to SatelliteData_resized\\labels\\ceil_light_1_Color_1669859309517-34350585937500_png.rf.5df5a98f65a1cce87e96c35c229a325a.txt\n",
      "Copied SatelliteData\\labels\\ceil_light_1_Color_1669859309917-51611328125000_png.rf.b5997deee50779f61122330e8b754a60.txt to SatelliteData_resized\\labels\\ceil_light_1_Color_1669859309917-51611328125000_png.rf.b5997deee50779f61122330e8b754a60.txt\n",
      "Copied SatelliteData\\labels\\ceil_light_1_Color_1669859313319-22583007812500_png.rf.746d8a23be1114e5d6b2dba891beafb2.txt to SatelliteData_resized\\labels\\ceil_light_1_Color_1669859313319-22583007812500_png.rf.746d8a23be1114e5d6b2dba891beafb2.txt\n",
      "Copied SatelliteData\\labels\\ceil_light_1_Color_1669859314820-81152343750000_png.rf.4bde2c4b41d2af4d98b71fcc1e47fb43.txt to SatelliteData_resized\\labels\\ceil_light_1_Color_1669859314820-81152343750000_png.rf.4bde2c4b41d2af4d98b71fcc1e47fb43.txt\n",
      "Copied SatelliteData\\labels\\ceil_light_1_Color_1669859316322-24291992187500_png.rf.0c894c7ba0010c7f313620e315a8ce60.txt to SatelliteData_resized\\labels\\ceil_light_1_Color_1669859316322-24291992187500_png.rf.0c894c7ba0010c7f313620e315a8ce60.txt\n",
      "Copied SatelliteData\\labels\\low_light_2_Color_1669859038421-07104492187500_png.rf.74646d46d85991cc7d78741e71c5ee7f.txt to SatelliteData_resized\\labels\\low_light_2_Color_1669859038421-07104492187500_png.rf.74646d46d85991cc7d78741e71c5ee7f.txt\n",
      "Copied SatelliteData\\labels\\low_light_2_Color_1669859041356-64233398437500_png.rf.9f2f6e08be7ef6cd0af0c346a67c0c1d.txt to SatelliteData_resized\\labels\\low_light_2_Color_1669859041356-64233398437500_png.rf.9f2f6e08be7ef6cd0af0c346a67c0c1d.txt\n",
      "Copied SatelliteData\\labels\\low_light_2_Color_1669859043591-33178710937500_png.rf.78cd2559b6b1f12f7be257cabe8dafd4.txt to SatelliteData_resized\\labels\\low_light_2_Color_1669859043591-33178710937500_png.rf.78cd2559b6b1f12f7be257cabe8dafd4.txt\n",
      "Copied SatelliteData\\labels\\low_light_2_Color_1669859044825-31079101562500_png.rf.9c695effb4cd9dac7d7d2acfb8fc7ddc.txt to SatelliteData_resized\\labels\\low_light_2_Color_1669859044825-31079101562500_png.rf.9c695effb4cd9dac7d7d2acfb8fc7ddc.txt\n",
      "Copied SatelliteData\\labels\\low_light_2_Color_1669859045825-76049804687500_png.rf.0ee64cc07e10d4d06ece57fb8c91e0ad.txt to SatelliteData_resized\\labels\\low_light_2_Color_1669859045825-76049804687500_png.rf.0ee64cc07e10d4d06ece57fb8c91e0ad.txt\n"
     ]
    }
   ],
   "source": [
    "import os\n",
    "import shutil\n",
    "from PIL import Image\n",
    "\n",
    "# Define input and output directories\n",
    "input_folder = 'SatelliteData'\n",
    "output_folder = 'SatelliteData_resized'\n",
    "\n",
    "# Define the size to resize images with the prefix (width, height)\n",
    "resize_size = (640, 480)\n",
    "\n",
    "# Specify the prefix for images to resize\n",
    "prefix = 'low'\n",
    "\n",
    "# Walk through all directories and files in the input folder\n",
    "for root, dirs, files in os.walk(input_folder):\n",
    "    # Calculate the relative path to maintain directory structure\n",
    "    relative_path = os.path.relpath(root, input_folder)\n",
    "    output_dir = os.path.join(output_folder, relative_path)\n",
    "    \n",
    "    # Create the corresponding directory in the output folder if it doesn't exist\n",
    "    if not os.path.exists(output_dir):\n",
    "        os.makedirs(output_dir)\n",
    "    \n",
    "    # Process each file in the current directory\n",
    "    for filename in files:\n",
    "        # Full path to the input file\n",
    "        file_path = os.path.join(root, filename)\n",
    "        \n",
    "        # Define the output file path\n",
    "        output_path = os.path.join(output_dir, filename)\n",
    "        \n",
    "        # If the file is an image and starts with the specific prefix\n",
    "        if filename.startswith(prefix) and filename.lower().endswith('jpg'):\n",
    "            try:\n",
    "                # Open the image\n",
    "                img = Image.open(file_path)\n",
    "\n",
    "                # Resize the image to 640x480\n",
    "                resized_img = img.resize(resize_size)\n",
    "\n",
    "                # Save the resized image to the output folder\n",
    "                resized_img.save(output_path)\n",
    "                print(f\"Resized and saved {output_path}\")\n",
    "            except Exception as e:\n",
    "                print(f\"Error processing image {file_path}: {e}\")\n",
    "        else:\n",
    "            # Copy all other files as they are\n",
    "            shutil.copy2(file_path, output_path)\n",
    "            print(f\"Copied {file_path} to {output_path}\")"
   ]
  },
  {
   "cell_type": "code",
   "execution_count": null,
   "metadata": {},
   "outputs": [],
   "source": []
  }
 ],
 "metadata": {
  "kernelspec": {
   "display_name": "base",
   "language": "python",
   "name": "python3"
  },
  "language_info": {
   "codemirror_mode": {
    "name": "ipython",
    "version": 3
   },
   "file_extension": ".py",
   "mimetype": "text/x-python",
   "name": "python",
   "nbconvert_exporter": "python",
   "pygments_lexer": "ipython3",
   "version": "3.9.16"
  }
 },
 "nbformat": 4,
 "nbformat_minor": 2
}
