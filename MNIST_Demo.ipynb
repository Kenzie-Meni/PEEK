{
 "cells": [
  {
   "cell_type": "markdown",
   "metadata": {},
   "source": [
    "# How to run PEEK on an Inference\n",
    "## MNIST Demo"
   ]
  },
  {
   "cell_type": "markdown",
   "metadata": {},
   "source": [
    "### Imports\n"
   ]
  },
  {
   "cell_type": "code",
   "execution_count": 1,
   "metadata": {},
   "outputs": [],
   "source": [
    "import torch\n",
    "import torch.nn as nn\n",
    "import torch.optim as optim\n",
    "import torchvision\n",
    "import torchvision.transforms as transforms\n",
    "from torch.utils.data import DataLoader\n",
    "import pickle\n",
    "import os\n",
    "import numpy as np\n",
    "import matplotlib.pyplot as plt\n",
    "import cv2\n",
    "from scipy.special import entr"
   ]
  },
  {
   "cell_type": "markdown",
   "metadata": {},
   "source": [
    "### MNIST - Data Loading"
   ]
  },
  {
   "cell_type": "code",
   "execution_count": 2,
   "metadata": {},
   "outputs": [],
   "source": [
    "# Data preprocessing and loading\n",
    "transform = transforms.Compose([transforms.ToTensor(), transforms.Normalize((0.5,), (0.5,))])\n",
    "\n",
    "train_dataset = torchvision.datasets.MNIST(root='./data', train=True, transform=transform, download=True)\n",
    "test_dataset = torchvision.datasets.MNIST(root='./data', train=False, transform=transform, download=True)\n",
    "\n",
    "train_loader = DataLoader(dataset=train_dataset, batch_size=64, shuffle=True)\n",
    "test_loader = DataLoader(dataset=test_dataset, batch_size=64, shuffle=False)"
   ]
  },
  {
   "cell_type": "markdown",
   "metadata": {},
   "source": [
    "### Model - Convolutional Neural Network"
   ]
  },
  {
   "cell_type": "code",
   "execution_count": 3,
   "metadata": {},
   "outputs": [],
   "source": [
    "# Set device\n",
    "device = torch.device(\"cuda\" if torch.cuda.is_available() else \"cpu\")\n",
    "\n",
    "# Define a simple CNN model\n",
    "class SimpleCNN(nn.Module):\n",
    "    def __init__(self):\n",
    "        super(SimpleCNN, self).__init__()\n",
    "        self.conv1 = nn.Conv2d(1, 16, kernel_size=3, padding=1)\n",
    "        self.relu = nn.ReLU()\n",
    "        self.pool = nn.MaxPool2d(kernel_size=2, stride=2)\n",
    "        self.conv2 = nn.Conv2d(16, 32, kernel_size=3, padding=1)\n",
    "        self.fc1 = nn.Linear(32 * 7 * 7, 128)\n",
    "        self.fc2 = nn.Linear(128, 10)\n",
    "\n",
    "    def forward(self, x):\n",
    "        x = self.relu(self.conv1(x))\n",
    "        x = self.pool(x)\n",
    "        x = self.relu(self.conv2(x))\n",
    "        x = self.pool(x)  # --> returns 7 x 7\n",
    "        x = x.view(x.size(0), -1)\n",
    "        x = self.relu(self.fc1(x))\n",
    "        x = self.fc2(x)\n",
    "        return x\n",
    "    "
   ]
  },
  {
   "cell_type": "markdown",
   "metadata": {},
   "source": [
    "### Register Model Forward Hooks\n",
    "\n",
    "These model forward hooks are registered on the convolutional layers only. They allow for passing of the convolutional feature maps to the ```compute_PEEK``` method. \n",
    "\n",
    "Here, the hooks have also been set to only activate when model is in evaluate or inference mode.\n"
   ]
  },
  {
   "cell_type": "code",
   "execution_count": 4,
   "metadata": {},
   "outputs": [
    {
     "data": {
      "text/plain": [
       "<torch.utils.hooks.RemovableHandle at 0x238647384c0>"
      ]
     },
     "execution_count": 4,
     "metadata": {},
     "output_type": "execute_result"
    }
   ],
   "source": [
    "# Initialize model, loss function, and optimizer\n",
    "model = SimpleCNN()\n",
    "\n",
    "feature_maps = {}\n",
    "\n",
    "def hook_fn(m, i, o):\n",
    "        if not model.training:  # Ensures it only runs in eval mode\n",
    "            print(f\"Forward Hook (Inference Only) - {m.__class__.__name__}: Output Shape {o.shape}\")\n",
    "            feature_maps[m] = o # storing key-value pair in feature_maps dictionary\n",
    "            # m --> (module) is the key\n",
    "            # o --> (output) is the value\n",
    "\n",
    "# Register hook to the model\n",
    "model.conv1.register_forward_hook(hook_fn)\n",
    "model.conv2.register_forward_hook(hook_fn)\n"
   ]
  },
  {
   "cell_type": "markdown",
   "metadata": {},
   "source": [
    "### Create an Instance of Model\n",
    "\n",
    "Create an instance of the model after the forward hooks have been registered. Otherwise the hooks will not initialize properly."
   ]
  },
  {
   "cell_type": "code",
   "execution_count": 5,
   "metadata": {},
   "outputs": [],
   "source": [
    "\n",
    "model = model.to(device)\n",
    "criterion = nn.CrossEntropyLoss()\n",
    "optimizer = optim.Adam(model.parameters(), lr=0.001)"
   ]
  },
  {
   "cell_type": "markdown",
   "metadata": {},
   "source": [
    "### Train Model"
   ]
  },
  {
   "cell_type": "code",
   "execution_count": 6,
   "metadata": {},
   "outputs": [
    {
     "name": "stdout",
     "output_type": "stream",
     "text": [
      "Epoch [1/5], Loss: 0.0807\n",
      "Epoch [2/5], Loss: 0.0413\n",
      "Epoch [3/5], Loss: 0.0130\n",
      "Epoch [4/5], Loss: 0.0872\n",
      "Epoch [5/5], Loss: 0.0478\n"
     ]
    }
   ],
   "source": [
    "# Training loop\n",
    "epochs = 5\n",
    "for epoch in range(epochs):\n",
    "    model.train()\n",
    "    for images, labels in train_loader:\n",
    "        images, labels = images.to(device), labels.to(device)\n",
    "\n",
    "        optimizer.zero_grad()\n",
    "        outputs = model(images)\n",
    "        loss = criterion(outputs, labels)\n",
    "        loss.backward()\n",
    "        optimizer.step()\n",
    "\n",
    "    print(f'Epoch [{epoch+1}/{epochs}], Loss: {loss.item():.4f}')"
   ]
  },
  {
   "cell_type": "markdown",
   "metadata": {},
   "source": [
    "### Set Model to Evaluate Mode"
   ]
  },
  {
   "cell_type": "code",
   "execution_count": 6,
   "metadata": {},
   "outputs": [
    {
     "data": {
      "text/plain": [
       "SimpleCNN(\n",
       "  (conv1): Conv2d(1, 16, kernel_size=(3, 3), stride=(1, 1), padding=(1, 1))\n",
       "  (relu): ReLU()\n",
       "  (pool): MaxPool2d(kernel_size=2, stride=2, padding=0, dilation=1, ceil_mode=False)\n",
       "  (conv2): Conv2d(16, 32, kernel_size=(3, 3), stride=(1, 1), padding=(1, 1))\n",
       "  (fc1): Linear(in_features=1568, out_features=128, bias=True)\n",
       "  (fc2): Linear(in_features=128, out_features=10, bias=True)\n",
       ")"
      ]
     },
     "execution_count": 6,
     "metadata": {},
     "output_type": "execute_result"
    }
   ],
   "source": [
    "# set model to evaluate\n",
    "model.eval()"
   ]
  },
  {
   "cell_type": "markdown",
   "metadata": {},
   "source": [
    "### Run Inference on Test Image and Collect Feature Maps\n",
    "\n",
    "Saves feature maps of test image in ```features``` directory"
   ]
  },
  {
   "cell_type": "code",
   "execution_count": 7,
   "metadata": {},
   "outputs": [],
   "source": [
    "import torch\n",
    "import os\n",
    "import pickle\n",
    "\n",
    "def save_feature_maps(model, feature_maps, test_dataset, device, save_path=\"./features/sample_image.pkl\"):\n",
    "    \"\"\"\n",
    "    Runs inference on the first test image and saves extracted feature maps.\n",
    "\n",
    "    Args:\n",
    "        model (torch.nn.Module): The trained model.\n",
    "        test_dataset (Dataset): The dataset containing test images.\n",
    "        device (torch.device): The device (CPU/GPU) to run inference on.\n",
    "        save_path (str): Path to save the extracted feature maps.\n",
    "\n",
    "    Returns:\n",
    "        str: Path where the feature maps were saved.\n",
    "    \"\"\"\n",
    "\n",
    "    # Select and preprocess the first test image\n",
    "    sample_image, _ = test_dataset[0]\n",
    "    sample_image = sample_image.unsqueeze(0).to(device)\n",
    "\n",
    "    # Forward pass to capture feature maps\n",
    "    with torch.no_grad():\n",
    "        _ = model(sample_image)\n",
    "\n",
    "    # Ensure the directory exists\n",
    "    os.makedirs(os.path.dirname(save_path), exist_ok=True)\n",
    "\n",
    "    # Save feature maps\n",
    "    with open(save_path, \"wb\") as f:\n",
    "        pickle.dump({layer: fmap.cpu().numpy() for layer, fmap in feature_maps.items()}, f)\n",
    "\n",
    "    print(f\"Feature maps saved at {save_path}\")\n",
    "    return save_path\n"
   ]
  },
  {
   "cell_type": "code",
   "execution_count": 12,
   "metadata": {},
   "outputs": [
    {
     "name": "stdout",
     "output_type": "stream",
     "text": [
      "Forward Hook (Inference Only) - Conv2d: Output Shape torch.Size([1, 16, 28, 28])\n",
      "Forward Hook (Inference Only) - Conv2d: Output Shape torch.Size([1, 32, 14, 14])\n",
      "Feature maps saved at ./features/sample_image.pkl\n"
     ]
    }
   ],
   "source": [
    "device = torch.device(\"cuda\" if torch.cuda.is_available() else \"cpu\")\n",
    "feature_map_path = save_feature_maps(model, feature_maps, test_dataset, device)\n",
    "\n",
    "# Select a test image to run inference\n",
    "sample_image, _ = test_dataset[0]  # Pick first image from test set\n",
    "sample_image = sample_image.unsqueeze(0).to(device)  # Add batch dimension\n"
   ]
  },
  {
   "cell_type": "markdown",
   "metadata": {},
   "source": [
    "### Compute & Plot PEEK from Saved Feature Maps"
   ]
  },
  {
   "cell_type": "code",
   "execution_count": 15,
   "metadata": {},
   "outputs": [],
   "source": [
    "# functions\n",
    "\n",
    "# original PEEK function\n",
    "def compute_PEEK(feature_maps, h, w):\n",
    "    positivized_maps = feature_maps + np.abs(np.min(feature_maps))  # Make positive\n",
    "    entropy_map = -np.sum(entr(positivized_maps), axis=-1)  # Compute entropy\n",
    "    peek_map = cv2.resize(entropy_map, (w, h))  # Resize to match original image size\n",
    "    return peek_map\n",
    "\n",
    "# function for plotting PEEK maps\n",
    "def plot_PEEK(modules, sample_image, feature_map_path):\n",
    "    feature_map_path = feature_map_path if os.path.exists(feature_map_path) else None\n",
    "    if feature_map_path is None:\n",
    "        print(f\"Feature map path {feature_map_path} does not exist. Please run save_feature_maps first.\")\n",
    "\n",
    "    # Load original image\n",
    "    image = sample_image.squeeze().cpu().numpy()\n",
    "    h, w = image.shape\n",
    "\n",
    "    # Load feature maps\n",
    "    with open(feature_map_path, 'rb') as f:\n",
    "        loaded_feature_maps = pickle.load(f)\n",
    "\n",
    "    # Plot for each convolutional layer\n",
    "    fig, axes = plt.subplots(len(modules), 2, figsize=(8, 4 * len(modules)))\n",
    "\n",
    "    for i, layer in enumerate(modules):\n",
    "        # Original image\n",
    "        axes[i, 0].imshow(image, cmap='gray')\n",
    "        axes[i, 0].set_title('Input')\n",
    "        axes[i, 0].axis('off')\n",
    "\n",
    "        # Compute and plot PEEK map\n",
    "        # Get feature maps using layer as key\n",
    "        feature_maps = loaded_feature_maps.get(layer, None)\n",
    "        if feature_maps is None:\n",
    "          # Find the key in loaded_feature_maps by comparing layer names\n",
    "          for k in loaded_feature_maps.keys():\n",
    "            if k.__class__.__name__ == layer.__class__.__name__ and str(k) == str(layer):\n",
    "              feature_maps = loaded_feature_maps[k]\n",
    "              break\n",
    "          if feature_maps is None:\n",
    "            raise KeyError(f\"Layer {layer} not found in loaded_feature_maps\")\n",
    "        feature_maps = feature_maps[0] # Access the first element\n",
    "        feature_maps = np.moveaxis(feature_maps, 0, -1)  # Rearrange channels\n",
    "        peek_map = compute_PEEK(feature_maps, h, w)  # Compute PEEK map\n",
    "\n",
    "        axes[i, 1].imshow(image, cmap='gray')  # Original image\n",
    "        axes[i, 1].imshow(peek_map, alpha=0.7, cmap='jet')  # Overlay PEEK\n",
    "        axes[i, 1].set_title(f'PEEK - {layer}')\n",
    "        axes[i, 1].axis('off')\n",
    "\n",
    "    fig.tight_layout()\n",
    "    plt.show()"
   ]
  },
  {
   "cell_type": "code",
   "execution_count": 17,
   "metadata": {},
   "outputs": [
    {
     "data": {
      "image/png": "[encoded data removed]",
      "text/plain": [
       "<Figure size 800x800 with 4 Axes>"
      ]
     },
     "metadata": {},
     "output_type": "display_data"
    }
   ],
   "source": [
    "# Run PEEK visualization\n",
    "plot_PEEK(modules=[model.conv1, model.conv2], sample_image=sample_image, feature_map_path=feature_map_path)"
   ]
  }
 ],
 "metadata": {
  "kernelspec": {
   "display_name": "peek-env",
   "language": "python",
   "name": "python3"
  },
  "language_info": {
   "codemirror_mode": {
    "name": "ipython",
    "version": 3
   },
   "file_extension": ".py",
   "mimetype": "text/x-python",
   "name": "python",
   "nbconvert_exporter": "python",
   "pygments_lexer": "ipython3",
   "version": "3.9.6"
  }
 },
 "nbformat": 4,
 "nbformat_minor": 2
}
